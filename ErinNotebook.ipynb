{
 "cells": [
  {
   "cell_type": "code",
   "execution_count": null,
   "metadata": {},
   "outputs": [],
   "source": [
    "# Import dependencies\n",
    "import matplotlib.pyplot as plt\n",
    "import pandas as pd\n",
    "import numpy as np\n",
    "import requests\n",
    "import time\n",
    "from scipy.stats import linregress"
   ]
  },
  {
   "cell_type": "code",
   "execution_count": null,
   "metadata": {},
   "outputs": [],
   "source": [
    "#load resource file\n",
    "natural_disaster_file = \"Resources/State Time Series 1980-2020.csv\"\n",
    "\n",
    "#Read file and store it in a data frame\n",
    "disaster_data_df = pd.read_csv(natural_disaster_file)\n",
    "\n",
    "#print first five lines to make sure it worked\n",
    "#disaster_data_df.head()"
   ]
  },
  {
   "cell_type": "code",
   "execution_count": null,
   "metadata": {},
   "outputs": [],
   "source": [
    "disaster_count_df = disaster_data_df[[\"Year\",\"State\",\"Drought Count\",\"Flooding Count\", \"Freeze Count\",\n",
    "                                    \"Severe Storm Count\", \"Tropical Cyclone Count\", \"Wildfire Count\",\n",
    "                                    \"Winter Storm Count\", \"All Disasters Count\"]]\n",
    "disaster_count_df.head()"
   ]
  },
  {
   "cell_type": "code",
   "execution_count": null,
   "metadata": {},
   "outputs": [],
   "source": [
    "disaster_group = disaster_count_df.groupby(\"Year\")\n",
    "disasters_df = disaster_group[\"All Disasters Count\"].sum()\n",
    "disasters_df"
   ]
  }
 ],
 "metadata": {
  "kernelspec": {
   "display_name": "Python 3",
   "language": "python",
   "name": "python3"
  },
  "language_info": {
   "codemirror_mode": {
    "name": "ipython",
    "version": 3
   },
   "file_extension": ".py",
   "mimetype": "text/x-python",
   "name": "python",
   "nbconvert_exporter": "python",
   "pygments_lexer": "ipython3",
   "version": "3.6.10"
  }
 },
 "nbformat": 4,
 "nbformat_minor": 4
}
